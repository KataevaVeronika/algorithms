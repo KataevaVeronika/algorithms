{
  "nbformat": 4,
  "nbformat_minor": 0,
  "metadata": {
    "colab": {
      "name": "Lab2.ipynb",
      "provenance": [],
      "collapsed_sections": []
    },
    "kernelspec": {
      "name": "python3",
      "display_name": "Python 3"
    },
    "language_info": {
      "name": "python"
    }
  },
  "cells": [
    {
      "cell_type": "code",
      "metadata": {
        "id": "3luy8PPkFoY4"
      },
      "source": [
        "import numpy as np\n",
        "import plotly.graph_objects as go\n",
        "\n",
        "from scipy.optimize import brute\n",
        "from scipy.optimize import minimize"
      ],
      "execution_count": 2,
      "outputs": []
    },
    {
      "cell_type": "markdown",
      "metadata": {
        "id": "CrI7vYSPFep_"
      },
      "source": [
        "#### One-dimensional"
      ]
    },
    {
      "cell_type": "code",
      "metadata": {
        "id": "PMcLCAKnF94F"
      },
      "source": [
        "def f_1(x):\n",
        "    return x ** 3"
      ],
      "execution_count": 4,
      "outputs": []
    },
    {
      "cell_type": "code",
      "metadata": {
        "id": "NmxXUa6tGUm6"
      },
      "source": [
        "def f_2(x):\n",
        "    return np.absolute(x - 0.2)"
      ],
      "execution_count": 3,
      "outputs": []
    },
    {
      "cell_type": "code",
      "metadata": {
        "id": "huiP70QoGZFK"
      },
      "source": [
        "def f_3(x):\n",
        "    return x * np.sin(1 / x)"
      ],
      "execution_count": 5,
      "outputs": []
    },
    {
      "cell_type": "code",
      "metadata": {
        "id": "XjybhO3sIeXR"
      },
      "source": [
        "epsilon = 1e-3\n",
        "range_1 = [[0, 1]]\n",
        "range_2 = [[0, 1]]\n",
        "range_3 = [[.01, 1]]"
      ],
      "execution_count": 12,
      "outputs": []
    },
    {
      "cell_type": "markdown",
      "metadata": {
        "id": "ZDqGXaKIFj_G"
      },
      "source": [
        "Brute Force"
      ]
    },
    {
      "cell_type": "code",
      "metadata": {
        "colab": {
          "base_uri": "https://localhost:8080/"
        },
        "id": "cmP8jHUeJlRf",
        "outputId": "fa640575-a865-4888-a9df-cee2920bde78"
      },
      "source": [
        "brute_f_1 = brute(f_1, range_1, full_output=True, Ns=int(1 / epsilon) + 1, finish=None)\n",
        "print(f'x ** 3:\\n'\n",
        "      f'global minimum: {brute_f_1[0]}\\n'\n",
        "      f'f value at global minimum: {brute_f_1[1]}\\n'\n",
        "      f'f calculations: {brute_f_1[3].size}\\n'\n",
        "      f'iterations: {brute_f_1[3].size}')"
      ],
      "execution_count": 50,
      "outputs": [
        {
          "output_type": "stream",
          "name": "stdout",
          "text": [
            "x ** 3:\n",
            "global minimum: 0.0\n",
            "f value at global minimum: 0.0\n",
            "f calculations: 1001\n",
            "iterations: 1001\n"
          ]
        }
      ]
    },
    {
      "cell_type": "code",
      "metadata": {
        "colab": {
          "base_uri": "https://localhost:8080/"
        },
        "id": "-tTIAYwLTLvj",
        "outputId": "99b570ef-1475-400d-e45c-751d379fd842"
      },
      "source": [
        "brute_f_2 = brute(f_2, range_2, full_output=True, Ns=int(1 / epsilon) + 1, finish=None)\n",
        "print(f'|x - 0.2|:\\n'\n",
        "      f'global minimum: {brute_f_2[0]}\\n'\n",
        "      f'f value at global minimum: {brute_f_2[1]}\\n'\n",
        "      f'f calculations: {brute_f_2[3].size}\\n'\n",
        "      f'iterations: {brute_f_2[3].size}')"
      ],
      "execution_count": 56,
      "outputs": [
        {
          "output_type": "stream",
          "name": "stdout",
          "text": [
            "|x - 0.2|:\n",
            "global minimum: 0.2\n",
            "f value at global minimum: 0.0\n",
            "f calculations: 1001\n",
            "iterations: 1001\n"
          ]
        }
      ]
    },
    {
      "cell_type": "code",
      "metadata": {
        "colab": {
          "base_uri": "https://localhost:8080/"
        },
        "id": "l6HgYGpFNYgn",
        "outputId": "04e0b943-ebb4-4b93-db89-50edd8df0af2"
      },
      "source": [
        "brute_f_3 = brute(f_3, range_3, full_output=True, Ns=int((1 - .01)/ epsilon) + 1, finish=None)\n",
        "print(f'x * sin(1 / x):\\n'\n",
        "      f'global minimum: {brute_f_3[0]}\\n'\n",
        "      f'f value at global minimum: {brute_f_3[1]}\\n'\n",
        "      f'f calculations: {brute_f_3[3].size}\\n'\n",
        "      f'iterations: {brute_f_3[3].size}')"
      ],
      "execution_count": 59,
      "outputs": [
        {
          "output_type": "stream",
          "name": "stdout",
          "text": [
            "x * sin(1 / x):\n",
            "global minimum: 0.223\n",
            "f value at global minimum: -0.21722461258083445\n",
            "f calculations: 991\n",
            "iterations: 991\n"
          ]
        }
      ]
    },
    {
      "cell_type": "markdown",
      "metadata": {
        "id": "iuujvZQWXoXH"
      },
      "source": [
        "Dichotomy"
      ]
    },
    {
      "cell_type": "code",
      "metadata": {
        "id": "t3FvHQNINqZ1"
      },
      "source": [
        "def dichotomy(f, a, b, epsilon):\n",
        "    delta = 1e-4\n",
        "    x_1 = (a + b - delta) / 2\n",
        "    x_2 = (a + b + delta) / 2\n",
        "    n_f_calculations = 0\n",
        "    n_iterations = 0\n",
        "    while np.absolute(b - a) >= epsilon:\n",
        "        if f(x_1) <= f(x_2):\n",
        "            b = x_2\n",
        "        else:\n",
        "            a = x_1\n",
        "        n_f_calculations +=2\n",
        "        x_1 = (a + b - delta) / 2\n",
        "        x_2 = (a + b + delta) / 2\n",
        "        n_iterations += 1\n",
        "    minimum = (x_1 + x_2) / 2\n",
        "    value = f(minimum)\n",
        "    return minimum, value, n_f_calculations, n_iterations"
      ],
      "execution_count": 131,
      "outputs": []
    },
    {
      "cell_type": "code",
      "metadata": {
        "colab": {
          "base_uri": "https://localhost:8080/"
        },
        "id": "UoPTxnc8a4j5",
        "outputId": "774ebdba-201b-499d-f773-60e375e859fa"
      },
      "source": [
        "dichotomy_f_1 = dichotomy(f_1, range_1[0][0], range_1[0][1], epsilon)\n",
        "print(f'x ** 3:\\n'\n",
        "      f'global minimum: {dichotomy_f_1[0]:.5f}\\n'\n",
        "      f'f value at global minimum: {dichotomy_f_1[1]:.5f}\\n'\n",
        "      f'f calculations: {dichotomy_f_1[2]}\\n'\n",
        "      f'iterations: {dichotomy_f_1[3]}')"
      ],
      "execution_count": 132,
      "outputs": [
        {
          "output_type": "stream",
          "name": "stdout",
          "text": [
            "x ** 3:\n",
            "global minimum: 0.00029\n",
            "f value at global minimum: 0.00000\n",
            "f calculations: 22\n",
            "iterations: 11\n"
          ]
        }
      ]
    },
    {
      "cell_type": "code",
      "metadata": {
        "colab": {
          "base_uri": "https://localhost:8080/"
        },
        "id": "I-dMI_zRhCCS",
        "outputId": "ee399883-9766-4001-8701-296e12b96c77"
      },
      "source": [
        "dichotomy_f_2 = dichotomy(f_2, range_2[0][0], range_2[0][1], epsilon)\n",
        "print(f'|x - 0.2|:\\n'\n",
        "      f'global minimum: {dichotomy_f_2[0]:.5f}\\n'\n",
        "      f'f value at global minimum: {dichotomy_f_2[1]:.5f}\\n'\n",
        "      f'f calculations: {dichotomy_f_2[2]}\\n'\n",
        "      f'iterations: {dichotomy_f_2[3]}')"
      ],
      "execution_count": 133,
      "outputs": [
        {
          "output_type": "stream",
          "name": "stdout",
          "text": [
            "|x - 0.2|:\n",
            "global minimum: 0.19998\n",
            "f value at global minimum: 0.00002\n",
            "f calculations: 22\n",
            "iterations: 11\n"
          ]
        }
      ]
    },
    {
      "cell_type": "code",
      "metadata": {
        "colab": {
          "base_uri": "https://localhost:8080/"
        },
        "id": "LMcHaZsahpL5",
        "outputId": "06ba384b-3c71-4106-8b62-0578a802e508"
      },
      "source": [
        "dichotomy_f_3 = dichotomy(f_3, range_3[0][0], range_3[0][1], epsilon)\n",
        "print(f'x * sin(1 / x):\\n'\n",
        "      f'global minimum: {dichotomy_f_3[0]:.5f}\\n'\n",
        "      f'f value at global minimum: {dichotomy_f_3[1]:.5f}\\n'\n",
        "      f'f calculations: {dichotomy_f_3[2]}\\n'\n",
        "      f'iterations: {dichotomy_f_3[3]}')"
      ],
      "execution_count": 134,
      "outputs": [
        {
          "output_type": "stream",
          "name": "stdout",
          "text": [
            "x * sin(1 / x):\n",
            "global minimum: 0.22248\n",
            "f value at global minimum: -0.21723\n",
            "f calculations: 22\n",
            "iterations: 11\n"
          ]
        }
      ]
    },
    {
      "cell_type": "markdown",
      "metadata": {
        "id": "nXo1Cu1ek7qh"
      },
      "source": [
        "Golden Section "
      ]
    },
    {
      "cell_type": "code",
      "metadata": {
        "id": "kJTndd1KiCCg"
      },
      "source": [
        "def golden_section(f, a, b, epsilon):\n",
        "    x_1 = a + (3 - np.sqrt(5)) / 2 * (b - a)\n",
        "    x_2 = b + (-3 + np.sqrt(5)) / 2 * (b - a)\n",
        "    n_f_calculations = 0\n",
        "    n_iterations = 0\n",
        "    while abs(a - b) > epsilon:\n",
        "        if f(x_1) <= f(x_2):\n",
        "            b = x_2\n",
        "            x_2 = x_1\n",
        "            x_1 = a + (3 - np.sqrt(5)) / 2 * (b - a)\n",
        "        else:\n",
        "            a = x_1\n",
        "            x_1 = x_2\n",
        "            x_2 = b + (-3 + np.sqrt(5)) / 2 * (b - a)\n",
        "        n_f_calculations +=1\n",
        "        n_iterations += 1\n",
        "    minimum = (x_1 + x_2) / 2\n",
        "    value = f(minimum)\n",
        "    n_f_calculations +=1\n",
        "    return minimum, value, n_f_calculations, n_iterations"
      ],
      "execution_count": 127,
      "outputs": []
    },
    {
      "cell_type": "code",
      "metadata": {
        "colab": {
          "base_uri": "https://localhost:8080/"
        },
        "id": "P9evrQ7nnvln",
        "outputId": "414f8ece-e160-4d8d-ac7e-384b9b9f4e2d"
      },
      "source": [
        "golden_section_f_1 = golden_section(f_1, range_1[0][0], range_1[0][1], epsilon)\n",
        "print(f'x ** 3:\\n'\n",
        "      f'global minimum: {golden_section_f_1[0]:.5f}\\n'\n",
        "      f'f value at global minimum: {golden_section_f_1[1]:.5f}\\n'\n",
        "      f'f calculations: {golden_section_f_1[2]}\\n'\n",
        "      f'iterations: {golden_section_f_1[3]}')"
      ],
      "execution_count": 128,
      "outputs": [
        {
          "output_type": "stream",
          "name": "stdout",
          "text": [
            "x ** 3:\n",
            "global minimum: 0.00037\n",
            "f value at global minimum: 0.00000\n",
            "f calculations: 16\n",
            "iterations: 15\n"
          ]
        }
      ]
    },
    {
      "cell_type": "code",
      "metadata": {
        "colab": {
          "base_uri": "https://localhost:8080/"
        },
        "id": "vnK6cTStn2d0",
        "outputId": "7e788976-d75d-49ec-9b95-b5c7030f44d3"
      },
      "source": [
        "golden_section_f_2 = golden_section(f_2, range_2[0][0], range_2[0][1], epsilon)\n",
        "print(f'|x - 0.2|:\\n'\n",
        "      f'global minimum: {golden_section_f_2[0]:.5f}\\n'\n",
        "      f'f value at global minimum: {golden_section_f_2[1]:.5f}\\n'\n",
        "      f'f calculations: {golden_section_f_2[2]}\\n'\n",
        "      f'iterations: {golden_section_f_2[3]}')"
      ],
      "execution_count": 129,
      "outputs": [
        {
          "output_type": "stream",
          "name": "stdout",
          "text": [
            "|x - 0.2|:\n",
            "global minimum: 0.20007\n",
            "f value at global minimum: 0.00007\n",
            "f calculations: 16\n",
            "iterations: 15\n"
          ]
        }
      ]
    },
    {
      "cell_type": "code",
      "metadata": {
        "colab": {
          "base_uri": "https://localhost:8080/"
        },
        "id": "fmmyBJqQoGD5",
        "outputId": "4a8a76f3-44f7-4326-963a-de353587b423"
      },
      "source": [
        "golden_section_f_3 = golden_section(f_3, range_3[0][0], range_3[0][1], epsilon)\n",
        "print(f'x * sin(1 / x):\\n'\n",
        "      f'global minimum: {golden_section_f_3[0]:.5f}\\n'\n",
        "      f'f value at global minimum: {golden_section_f_3[1]:.5f}\\n'\n",
        "      f'f calculations: {golden_section_f_3[2]}\\n'\n",
        "      f'iterations: {golden_section_f_3[3]}')"
      ],
      "execution_count": 130,
      "outputs": [
        {
          "output_type": "stream",
          "name": "stdout",
          "text": [
            "x * sin(1 / x):\n",
            "global minimum: 0.22272\n",
            "f value at global minimum: -0.21723\n",
            "f calculations: 16\n",
            "iterations: 15\n"
          ]
        }
      ]
    },
    {
      "cell_type": "code",
      "metadata": {
        "id": "fPU5a0Uxo5yx"
      },
      "source": [
        "+ for calculation of thingy\n",
        "+ explain difference"
      ],
      "execution_count": null,
      "outputs": []
    },
    {
      "cell_type": "markdown",
      "metadata": {
        "id": "u9mTGxb1gtzP"
      },
      "source": [
        "#### Multidimensional"
      ]
    },
    {
      "cell_type": "code",
      "metadata": {
        "id": "E5lyk5WYgtb-"
      },
      "source": [
        "alpha = np.random.rand()\n",
        "beta = np.random.rand()\n",
        "noise = np.random.normal(0, 1, 100)\n",
        "x = np.linspace(0, 1, 101)\n",
        "data = alpha * x + beta\n",
        "y = data + np.random.normal(0, 1, 101)\n",
        "range_ = [[0, 1], [0, 1]]"
      ],
      "execution_count": 7,
      "outputs": []
    },
    {
      "cell_type": "code",
      "metadata": {
        "colab": {
          "base_uri": "https://localhost:8080/"
        },
        "id": "fccpa6FEC5fs",
        "outputId": "92d0fa45-80e1-4331-a9d4-f7d40ecb56e8"
      },
      "source": [
        "print(f'alpha: {alpha}, beta: {beta}')"
      ],
      "execution_count": 8,
      "outputs": [
        {
          "output_type": "stream",
          "name": "stdout",
          "text": [
            "alpha: 0.12888434850488506, beta: 0.8201498633330849\n"
          ]
        }
      ]
    },
    {
      "cell_type": "markdown",
      "metadata": {
        "id": "Sn5RuHOEIcb6"
      },
      "source": [
        "Linear Approximation"
      ]
    },
    {
      "cell_type": "code",
      "metadata": {
        "id": "ZY5ikPySlfPF"
      },
      "source": [
        "def linear_approximant(x, a, b):\n",
        "    return a * x + b"
      ],
      "execution_count": 9,
      "outputs": []
    },
    {
      "cell_type": "code",
      "metadata": {
        "id": "KuUhaKXts0Z1"
      },
      "source": [
        "def cost_function(parameters, approximant, x, y):\n",
        "    return np.sum((approximant(x, parameters[0], parameters[1]) - y) ** 2)"
      ],
      "execution_count": 10,
      "outputs": []
    },
    {
      "cell_type": "markdown",
      "metadata": {
        "id": "WyZy5h_NIROm"
      },
      "source": [
        "Brute Force"
      ]
    },
    {
      "cell_type": "code",
      "metadata": {
        "colab": {
          "base_uri": "https://localhost:8080/"
        },
        "id": "Xj1zaQG1utBH",
        "outputId": "c09be4c1-dce0-483d-cbea-2d2e04eb0add"
      },
      "source": [
        "brute_linear = brute(cost_function, range_, args=(linear_approximant, x, y), full_output=True, Ns=int(1 / epsilon) + 1, finish=None)\n",
        "print(f'estimated alpha: {brute_linear[0][0]}\\n'\n",
        "      f'estimated beta: {brute_linear[0][1]}\\n'\n",
        "      f'iterations: {(int(1 / epsilon) + 1) ** 2}\\n')"
      ],
      "execution_count": 13,
      "outputs": [
        {
          "output_type": "stream",
          "name": "stdout",
          "text": [
            "estimated alpha: 0.029\n",
            "estimated beta: 0.928\n",
            "iterations: 1002001\n",
            "\n"
          ]
        }
      ]
    },
    {
      "cell_type": "markdown",
      "metadata": {
        "id": "Jq9Lha8mu2hG"
      },
      "source": [
        "Gauss"
      ]
    },
    {
      "cell_type": "code",
      "metadata": {
        "id": "9Pna_ZEswGDn"
      },
      "source": [
        "initial_guess = [range_[0][0], range_[1][0]]"
      ],
      "execution_count": 20,
      "outputs": []
    },
    {
      "cell_type": "code",
      "metadata": {
        "colab": {
          "base_uri": "https://localhost:8080/"
        },
        "id": "igA2BgOGVvB-",
        "outputId": "da424963-406e-4082-c33c-c3eb7dc37144"
      },
      "source": [
        "gauss_linear = minimize(cost_function, x0=initial_guess, method='Powell', tol=epsilon, args=(linear_approximant, x, y))\n",
        "print(f'estimated alpha: {gauss_linear[\"x\"][0]:.5f}\\n'\n",
        "      f'estimated beta: {gauss_linear[\"x\"][1]:.5f}\\n'\n",
        "      f'iterations: {gauss_linear[\"nit\"]}\\n'\n",
        "      f'function evaluations: {gauss_linear[\"nfev\"]}\\n')"
      ],
      "execution_count": 33,
      "outputs": [
        {
          "output_type": "stream",
          "name": "stdout",
          "text": [
            "estimated alpha: 0.02841\n",
            "estimated beta: 0.92831\n",
            "iterations: 3\n",
            "function evaluations: 95\n",
            "\n"
          ]
        }
      ]
    },
    {
      "cell_type": "markdown",
      "metadata": {
        "id": "QGYIGx1d2h00"
      },
      "source": [
        "Nelder-Mead"
      ]
    },
    {
      "cell_type": "code",
      "metadata": {
        "colab": {
          "base_uri": "https://localhost:8080/"
        },
        "id": "KfWImSbG2NDw",
        "outputId": "af58d8fd-b9cc-4829-9f4d-08841d4c6b23"
      },
      "source": [
        "nelder_mead_linear = minimize(cost_function, x0=initial_guess, method='Nelder-Mead', tol=epsilon, args=(linear_approximant, x, y))\n",
        "print(f'estimated alpha: {nelder_mead_linear[\"x\"][0]:.5f}\\n'\n",
        "      f'estimated beta: {nelder_mead_linear[\"x\"][1]:.5f}\\n'\n",
        "      f'iterations: {nelder_mead_linear[\"nit\"]}\\n'\n",
        "      f'function evaluations: {nelder_mead_linear[\"nfev\"]}\\n')"
      ],
      "execution_count": 44,
      "outputs": [
        {
          "output_type": "stream",
          "name": "stdout",
          "text": [
            "estimated alpha: 0.02811\n",
            "estimated beta: 0.92854\n",
            "iterations: 51\n",
            "function evaluations: 97\n",
            "\n"
          ]
        }
      ]
    },
    {
      "cell_type": "code",
      "metadata": {
        "colab": {
          "base_uri": "https://localhost:8080/",
          "height": 542
        },
        "id": "CMUB2xUKIqYu",
        "outputId": "ae9f86e9-101f-42c1-f23d-8e81aaffec7e"
      },
      "source": [
        "figure = go.Figure()\n",
        "figure.add_trace(go.Scatter(x=x, y=data,\n",
        "                            mode='lines',\n",
        "                            name='generative line'))\n",
        "figure.add_trace(go.Scatter(x=x, y=brute_linear[0][0] * x + brute_linear[0][1],\n",
        "                            mode='lines',\n",
        "                            name='linear brute force approximation'))\n",
        "figure.add_trace(go.Scatter(x=x, y=gauss_linear[\"x\"][0] * x + gauss_linear[\"x\"][1],\n",
        "                            mode='lines',\n",
        "                            name='linear gauss approximation'))\n",
        "figure.add_trace(go.Scatter(x=x, y=nelder_mead_linear[\"x\"][0] * x + nelder_mead_linear[\"x\"][1],\n",
        "                            mode='lines',\n",
        "                            name='linear nelder-mead approximation'))\n",
        "figure.add_trace(go.Scatter(x=x, y=y,\n",
        "                            mode='markers',\n",
        "                            name='noised data'))\n",
        "figure.update_layout(title='Linear Approximation', font_size=10)"
      ],
      "execution_count": 45,
      "outputs": [
        {
          "output_type": "display_data",
          "data": {
            "text/html": [
              "<html>\n",
              "<head><meta charset=\"utf-8\" /></head>\n",
              "<body>\n",
              "    <div>\n",
              "            <script src=\"https://cdnjs.cloudflare.com/ajax/libs/mathjax/2.7.5/MathJax.js?config=TeX-AMS-MML_SVG\"></script><script type=\"text/javascript\">if (window.MathJax) {MathJax.Hub.Config({SVG: {font: \"STIX-Web\"}});}</script>\n",
              "                <script type=\"text/javascript\">window.PlotlyConfig = {MathJaxConfig: 'local'};</script>\n",
              "        <script src=\"https://cdn.plot.ly/plotly-latest.min.js\"></script>    \n",
              "            <div id=\"e4a5a065-58f8-4148-bcca-a3ff65704c27\" class=\"plotly-graph-div\" style=\"height:525px; width:100%;\"></div>\n",
              "            <script type=\"text/javascript\">\n",
              "                \n",
              "                    window.PLOTLYENV=window.PLOTLYENV || {};\n",
              "                    \n",
              "                if (document.getElementById(\"e4a5a065-58f8-4148-bcca-a3ff65704c27\")) {\n",
              "                    Plotly.newPlot(\n",
              "                        'e4a5a065-58f8-4148-bcca-a3ff65704c27',\n",
              "                        [{\"mode\": \"lines\", \"name\": \"generative line\", \"type\": \"scatter\", \"x\": [0.0, 0.01, 0.02, 0.03, 0.04, 0.05, 0.06, 0.07, 0.08, 0.09, 0.1, 0.11, 0.12, 0.13, 0.14, 0.15, 0.16, 0.17, 0.18, 0.19, 0.2, 0.21, 0.22, 0.23, 0.24, 0.25, 0.26, 0.27, 0.28, 0.29, 0.3, 0.31, 0.32, 0.33, 0.34, 0.35000000000000003, 0.36, 0.37, 0.38, 0.39, 0.4, 0.41000000000000003, 0.42, 0.43, 0.44, 0.45, 0.46, 0.47000000000000003, 0.48, 0.49, 0.5, 0.51, 0.52, 0.53, 0.54, 0.55, 0.56, 0.5700000000000001, 0.58, 0.59, 0.6, 0.61, 0.62, 0.63, 0.64, 0.65, 0.66, 0.67, 0.68, 0.6900000000000001, 0.7000000000000001, 0.71, 0.72, 0.73, 0.74, 0.75, 0.76, 0.77, 0.78, 0.79, 0.8, 0.81, 0.8200000000000001, 0.8300000000000001, 0.84, 0.85, 0.86, 0.87, 0.88, 0.89, 0.9, 0.91, 0.92, 0.93, 0.9400000000000001, 0.9500000000000001, 0.96, 0.97, 0.98, 0.99, 1.0], \"y\": [0.8201498633330849, 0.8214387068181338, 0.8227275503031827, 0.8240163937882314, 0.8253052372732803, 0.8265940807583292, 0.8278829242433781, 0.8291717677284269, 0.8304606112134757, 0.8317494546985246, 0.8330382981835734, 0.8343271416686223, 0.8356159851536711, 0.83690482863872, 0.8381936721237688, 0.8394825156088177, 0.8407713590938666, 0.8420602025789153, 0.8433490460639642, 0.8446378895490131, 0.845926733034062, 0.8472155765191108, 0.8485044200041596, 0.8497932634892085, 0.8510821069742573, 0.8523709504593062, 0.8536597939443551, 0.8549486374294039, 0.8562374809144527, 0.8575263243995016, 0.8588151678845505, 0.8601040113695992, 0.8613928548546481, 0.862681698339697, 0.8639705418247459, 0.8652593853097947, 0.8665482287948435, 0.8678370722798924, 0.8691259157649412, 0.8704147592499901, 0.871703602735039, 0.8729924462200878, 0.8742812897051366, 0.8755701331901855, 0.8768589766752344, 0.8781478201602833, 0.879436663645332, 0.8807255071303809, 0.8820143506154298, 0.8833031941004786, 0.8845920375855274, 0.8858808810705763, 0.8871697245556251, 0.888458568040674, 0.8897474115257229, 0.8910362550107718, 0.8923250984958205, 0.8936139419808694, 0.8949027854659183, 0.8961916289509672, 0.8974804724360159, 0.8987693159210648, 0.9000581594061137, 0.9013470028911625, 0.9026358463762114, 0.9039246898612602, 0.905213533346309, 0.9065023768313579, 0.9077912203164068, 0.9090800638014557, 0.9103689072865044, 0.9116577507715533, 0.9129465942566022, 0.9142354377416511, 0.9155242812266999, 0.9168131247117487, 0.9181019681967976, 0.9193908116818464, 0.9206796551668953, 0.9219684986519441, 0.923257342136993, 0.9245461856220418, 0.9258350291070907, 0.9271238725921396, 0.9284127160771883, 0.9297015595622372, 0.9309904030472861, 0.932279246532335, 0.9335680900173837, 0.9348569335024326, 0.9361457769874815, 0.9374346204725303, 0.9387234639575792, 0.9400123074426281, 0.9413011509276769, 0.9425899944127257, 0.9438788378977746, 0.9451676813828234, 0.9464565248678722, 0.9477453683529211, 0.94903421183797]}, {\"mode\": \"lines\", \"name\": \"linear brute force approximation\", \"type\": \"scatter\", \"x\": [0.0, 0.01, 0.02, 0.03, 0.04, 0.05, 0.06, 0.07, 0.08, 0.09, 0.1, 0.11, 0.12, 0.13, 0.14, 0.15, 0.16, 0.17, 0.18, 0.19, 0.2, 0.21, 0.22, 0.23, 0.24, 0.25, 0.26, 0.27, 0.28, 0.29, 0.3, 0.31, 0.32, 0.33, 0.34, 0.35000000000000003, 0.36, 0.37, 0.38, 0.39, 0.4, 0.41000000000000003, 0.42, 0.43, 0.44, 0.45, 0.46, 0.47000000000000003, 0.48, 0.49, 0.5, 0.51, 0.52, 0.53, 0.54, 0.55, 0.56, 0.5700000000000001, 0.58, 0.59, 0.6, 0.61, 0.62, 0.63, 0.64, 0.65, 0.66, 0.67, 0.68, 0.6900000000000001, 0.7000000000000001, 0.71, 0.72, 0.73, 0.74, 0.75, 0.76, 0.77, 0.78, 0.79, 0.8, 0.81, 0.8200000000000001, 0.8300000000000001, 0.84, 0.85, 0.86, 0.87, 0.88, 0.89, 0.9, 0.91, 0.92, 0.93, 0.9400000000000001, 0.9500000000000001, 0.96, 0.97, 0.98, 0.99, 1.0], \"y\": [0.928, 0.9282900000000001, 0.9285800000000001, 0.9288700000000001, 0.9291600000000001, 0.92945, 0.92974, 0.93003, 0.93032, 0.93061, 0.9309000000000001, 0.9311900000000001, 0.9314800000000001, 0.9317700000000001, 0.93206, 0.93235, 0.93264, 0.93293, 0.93322, 0.9335100000000001, 0.9338000000000001, 0.9340900000000001, 0.9343800000000001, 0.93467, 0.93496, 0.93525, 0.93554, 0.93583, 0.9361200000000001, 0.9364100000000001, 0.9367000000000001, 0.9369900000000001, 0.93728, 0.93757, 0.93786, 0.93815, 0.93844, 0.9387300000000001, 0.9390200000000001, 0.9393100000000001, 0.9396000000000001, 0.93989, 0.94018, 0.94047, 0.94076, 0.94105, 0.9413400000000001, 0.9416300000000001, 0.9419200000000001, 0.94221, 0.9425, 0.94279, 0.94308, 0.94337, 0.94366, 0.9439500000000001, 0.9442400000000001, 0.9445300000000001, 0.94482, 0.94511, 0.9454, 0.94569, 0.94598, 0.9462700000000001, 0.9465600000000001, 0.9468500000000001, 0.9471400000000001, 0.94743, 0.94772, 0.94801, 0.9483, 0.94859, 0.9488800000000001, 0.9491700000000001, 0.9494600000000001, 0.9497500000000001, 0.95004, 0.95033, 0.95062, 0.95091, 0.9512, 0.9514900000000001, 0.9517800000000001, 0.9520700000000001, 0.9523600000000001, 0.95265, 0.95294, 0.95323, 0.95352, 0.95381, 0.9541000000000001, 0.9543900000000001, 0.9546800000000001, 0.9549700000000001, 0.95526, 0.95555, 0.95584, 0.95613, 0.95642, 0.9567100000000001, 0.9570000000000001]}, {\"mode\": \"lines\", \"name\": \"linear gauss approximation\", \"type\": \"scatter\", \"x\": [0.0, 0.01, 0.02, 0.03, 0.04, 0.05, 0.06, 0.07, 0.08, 0.09, 0.1, 0.11, 0.12, 0.13, 0.14, 0.15, 0.16, 0.17, 0.18, 0.19, 0.2, 0.21, 0.22, 0.23, 0.24, 0.25, 0.26, 0.27, 0.28, 0.29, 0.3, 0.31, 0.32, 0.33, 0.34, 0.35000000000000003, 0.36, 0.37, 0.38, 0.39, 0.4, 0.41000000000000003, 0.42, 0.43, 0.44, 0.45, 0.46, 0.47000000000000003, 0.48, 0.49, 0.5, 0.51, 0.52, 0.53, 0.54, 0.55, 0.56, 0.5700000000000001, 0.58, 0.59, 0.6, 0.61, 0.62, 0.63, 0.64, 0.65, 0.66, 0.67, 0.68, 0.6900000000000001, 0.7000000000000001, 0.71, 0.72, 0.73, 0.74, 0.75, 0.76, 0.77, 0.78, 0.79, 0.8, 0.81, 0.8200000000000001, 0.8300000000000001, 0.84, 0.85, 0.86, 0.87, 0.88, 0.89, 0.9, 0.91, 0.92, 0.93, 0.9400000000000001, 0.9500000000000001, 0.96, 0.97, 0.98, 0.99, 1.0], \"y\": [0.9283062138422072, 0.9285903211413475, 0.9288744284404877, 0.929158535739628, 0.9294426430387683, 0.9297267503379086, 0.9300108576370488, 0.9302949649361891, 0.9305790722353294, 0.9308631795344697, 0.9311472868336099, 0.9314313941327502, 0.9317155014318905, 0.9319996087310308, 0.932283716030171, 0.9325678233293113, 0.9328519306284516, 0.9331360379275919, 0.9334201452267321, 0.9337042525258724, 0.9339883598250127, 0.934272467124153, 0.9345565744232932, 0.9348406817224335, 0.9351247890215738, 0.9354088963207141, 0.9356930036198543, 0.9359771109189946, 0.9362612182181349, 0.9365453255172751, 0.9368294328164154, 0.9371135401155557, 0.937397647414696, 0.9376817547138362, 0.9379658620129765, 0.9382499693121168, 0.9385340766112571, 0.9388181839103973, 0.9391022912095376, 0.9393863985086779, 0.9396705058078182, 0.9399546131069584, 0.9402387204060987, 0.940522827705239, 0.9408069350043793, 0.9410910423035195, 0.9413751496026598, 0.9416592569018001, 0.9419433642009404, 0.9422274715000806, 0.9425115787992209, 0.9427956860983612, 0.9430797933975014, 0.9433639006966417, 0.943648007995782, 0.9439321152949223, 0.9442162225940625, 0.9445003298932028, 0.9447844371923431, 0.9450685444914834, 0.9453526517906236, 0.9456367590897639, 0.9459208663889042, 0.9462049736880445, 0.9464890809871846, 0.946773188286325, 0.9470572955854653, 0.9473414028846056, 0.9476255101837457, 0.947909617482886, 0.9481937247820263, 0.9484778320811666, 0.9487619393803068, 0.9490460466794471, 0.9493301539785874, 0.9496142612777276, 0.9498983685768679, 0.9501824758760082, 0.9504665831751485, 0.9507506904742887, 0.951034797773429, 0.9513189050725693, 0.9516030123717096, 0.9518871196708498, 0.9521712269699901, 0.9524553342691304, 0.9527394415682707, 0.9530235488674109, 0.9533076561665512, 0.9535917634656915, 0.9538758707648318, 0.954159978063972, 0.9544440853631123, 0.9547281926622526, 0.9550122999613929, 0.9552964072605331, 0.9555805145596734, 0.9558646218588137, 0.956148729157954, 0.9564328364570942, 0.9567169437562345]}, {\"mode\": \"lines\", \"name\": \"linear nelder-mead approximation\", \"type\": \"scatter\", \"x\": [0.0, 0.01, 0.02, 0.03, 0.04, 0.05, 0.06, 0.07, 0.08, 0.09, 0.1, 0.11, 0.12, 0.13, 0.14, 0.15, 0.16, 0.17, 0.18, 0.19, 0.2, 0.21, 0.22, 0.23, 0.24, 0.25, 0.26, 0.27, 0.28, 0.29, 0.3, 0.31, 0.32, 0.33, 0.34, 0.35000000000000003, 0.36, 0.37, 0.38, 0.39, 0.4, 0.41000000000000003, 0.42, 0.43, 0.44, 0.45, 0.46, 0.47000000000000003, 0.48, 0.49, 0.5, 0.51, 0.52, 0.53, 0.54, 0.55, 0.56, 0.5700000000000001, 0.58, 0.59, 0.6, 0.61, 0.62, 0.63, 0.64, 0.65, 0.66, 0.67, 0.68, 0.6900000000000001, 0.7000000000000001, 0.71, 0.72, 0.73, 0.74, 0.75, 0.76, 0.77, 0.78, 0.79, 0.8, 0.81, 0.8200000000000001, 0.8300000000000001, 0.84, 0.85, 0.86, 0.87, 0.88, 0.89, 0.9, 0.91, 0.92, 0.93, 0.9400000000000001, 0.9500000000000001, 0.96, 0.97, 0.98, 0.99, 1.0], \"y\": [0.9285439413113609, 0.9288250334450073, 0.9291061255786538, 0.9293872177123003, 0.9296683098459468, 0.9299494019795933, 0.9302304941132398, 0.9305115862468862, 0.9307926783805327, 0.9310737705141792, 0.9313548626478256, 0.9316359547814722, 0.9319170469151187, 0.9321981390487651, 0.9324792311824116, 0.9327603233160581, 0.9330414154497045, 0.933322507583351, 0.9336035997169976, 0.933884691850644, 0.9341657839842905, 0.934446876117937, 0.9347279682515834, 0.9350090603852299, 0.9352901525188764, 0.935571244652523, 0.9358523367861694, 0.9361334289198159, 0.9364145210534623, 0.9366956131871088, 0.9369767053207553, 0.9372577974544017, 0.9375388895880483, 0.9378199817216948, 0.9381010738553412, 0.9383821659889877, 0.9386632581226342, 0.9389443502562806, 0.9392254423899271, 0.9395065345235737, 0.9397876266572202, 0.9400687187908666, 0.9403498109245131, 0.9406309030581596, 0.940911995191806, 0.9411930873254526, 0.9414741794590991, 0.9417552715927455, 0.942036363726392, 0.9423174558600385, 0.9425985479936849, 0.9428796401273314, 0.943160732260978, 0.9434418243946244, 0.9437229165282709, 0.9440040086619174, 0.9442851007955638, 0.9445661929292103, 0.9448472850628568, 0.9451283771965033, 0.9454094693301498, 0.9456905614637963, 0.9459716535974427, 0.9462527457310892, 0.9465338378647357, 0.9468149299983821, 0.9470960221320287, 0.9473771142656752, 0.9476582063993216, 0.9479392985329681, 0.9482203906666146, 0.948501482800261, 0.9487825749339075, 0.9490636670675541, 0.9493447592012005, 0.949625851334847, 0.9499069434684935, 0.9501880356021399, 0.9504691277357864, 0.9507502198694329, 0.9510313120030794, 0.9513124041367259, 0.9515934962703724, 0.9518745884040188, 0.9521556805376653, 0.9524367726713118, 0.9527178648049582, 0.9529989569386048, 0.9532800490722513, 0.9535611412058977, 0.9538422333395442, 0.9541233254731907, 0.9544044176068371, 0.9546855097404836, 0.9549666018741302, 0.9552476940077766, 0.9555287861414231, 0.9558098782750696, 0.956090970408716, 0.9563720625423625, 0.956653154676009]}, {\"mode\": \"markers\", \"name\": \"noised data\", \"type\": \"scatter\", \"x\": [0.0, 0.01, 0.02, 0.03, 0.04, 0.05, 0.06, 0.07, 0.08, 0.09, 0.1, 0.11, 0.12, 0.13, 0.14, 0.15, 0.16, 0.17, 0.18, 0.19, 0.2, 0.21, 0.22, 0.23, 0.24, 0.25, 0.26, 0.27, 0.28, 0.29, 0.3, 0.31, 0.32, 0.33, 0.34, 0.35000000000000003, 0.36, 0.37, 0.38, 0.39, 0.4, 0.41000000000000003, 0.42, 0.43, 0.44, 0.45, 0.46, 0.47000000000000003, 0.48, 0.49, 0.5, 0.51, 0.52, 0.53, 0.54, 0.55, 0.56, 0.5700000000000001, 0.58, 0.59, 0.6, 0.61, 0.62, 0.63, 0.64, 0.65, 0.66, 0.67, 0.68, 0.6900000000000001, 0.7000000000000001, 0.71, 0.72, 0.73, 0.74, 0.75, 0.76, 0.77, 0.78, 0.79, 0.8, 0.81, 0.8200000000000001, 0.8300000000000001, 0.84, 0.85, 0.86, 0.87, 0.88, 0.89, 0.9, 0.91, 0.92, 0.93, 0.9400000000000001, 0.9500000000000001, 0.96, 0.97, 0.98, 0.99, 1.0], \"y\": [-0.269406081347923, 1.1148960202350056, 1.4499538704522819, -0.7337531649991171, 2.4411070170212747, 1.5828323657661318, 2.301298039784145, -0.23165950522552992, 1.1612883498954625, 0.014761102204343568, 0.13194158756207652, 0.9009512550357509, -1.0354627646280614, 1.5968129298743095, 0.5683473545170221, 2.0461728247783606, 1.866419921447281, 2.2917378783759204, -0.7757251057453628, 1.5597307631206356, -1.6653474898596023, 1.8028326726859984, 0.17236975755304573, 1.5178102732483298, 3.4667291779110756, 0.7324021821580322, 0.3062930382446173, 2.0629427243061267, 2.438547863573746, 0.355213274136286, 0.7894509494714615, 0.5853114327285419, 1.854802243124194, -0.5994097490669068, 0.7427735593325331, 2.4635256968971286, 0.07891663176001684, 1.045329572286279, 1.1926621824590211, 1.545374738969579, -0.11216807637669135, 0.6888721578129563, 1.503456400898421, 0.9665596260240823, 1.5352892814991375, -1.7716043074221985, 2.251036866260491, 1.5762494052211458, 0.707220342185075, 1.1409836056356448, 1.3126199695446843, 0.8892231262674687, 1.5986495873709594, 0.992642969178114, -1.1447416072103354, -0.4138361604201761, 1.5487147068232576, 0.8756487133275289, 2.1145166468822336, 1.0877019887988095, -2.182916005721651, 1.0849830474866573, 1.3558444283492657, 1.9960546424832277, 2.062802522546238, 1.978452446453356, 1.0731471518083604, 1.4782278646893998, -0.14546283053661668, 1.3118261888560712, -0.12813797748869815, 2.537285471808218, 0.5360518129117291, 3.0275630910691933, 2.13966217109059, 1.1580820222946384, 0.7759837199505426, -1.2305295385347699, -0.3699105713634975, 0.7866842572355036, 2.0106230204911784, 0.10085941354989414, 0.4151691674018071, 1.308916621806905, 1.1867595333150316, 0.5046776416104973, 0.49947347587696594, 2.5907558814870635, 0.6550605065459898, 0.2026792428313835, 1.468092188732916, 0.7041242967212384, 1.0423806191025742, 1.112519124304896, -0.01190501742194483, 0.621294988754969, -0.13267309208127076, 2.2046177366839705, 0.14384995015900537, 3.0350775775084537, 0.06781265560091909]}],\n",
              "                        {\"font\": {\"size\": 10}, \"template\": {\"data\": {\"bar\": [{\"error_x\": {\"color\": \"#2a3f5f\"}, \"error_y\": {\"color\": \"#2a3f5f\"}, \"marker\": {\"line\": {\"color\": \"#E5ECF6\", \"width\": 0.5}}, \"type\": \"bar\"}], \"barpolar\": [{\"marker\": {\"line\": {\"color\": \"#E5ECF6\", \"width\": 0.5}}, \"type\": \"barpolar\"}], \"carpet\": [{\"aaxis\": {\"endlinecolor\": \"#2a3f5f\", \"gridcolor\": \"white\", \"linecolor\": \"white\", \"minorgridcolor\": \"white\", \"startlinecolor\": \"#2a3f5f\"}, \"baxis\": {\"endlinecolor\": \"#2a3f5f\", \"gridcolor\": \"white\", \"linecolor\": \"white\", \"minorgridcolor\": \"white\", \"startlinecolor\": \"#2a3f5f\"}, \"type\": \"carpet\"}], \"choropleth\": [{\"colorbar\": {\"outlinewidth\": 0, \"ticks\": \"\"}, \"type\": \"choropleth\"}], \"contour\": [{\"colorbar\": {\"outlinewidth\": 0, \"ticks\": \"\"}, \"colorscale\": [[0.0, \"#0d0887\"], [0.1111111111111111, \"#46039f\"], [0.2222222222222222, \"#7201a8\"], [0.3333333333333333, \"#9c179e\"], [0.4444444444444444, \"#bd3786\"], [0.5555555555555556, \"#d8576b\"], [0.6666666666666666, \"#ed7953\"], [0.7777777777777778, \"#fb9f3a\"], [0.8888888888888888, \"#fdca26\"], [1.0, \"#f0f921\"]], \"type\": \"contour\"}], \"contourcarpet\": [{\"colorbar\": {\"outlinewidth\": 0, \"ticks\": \"\"}, \"type\": \"contourcarpet\"}], \"heatmap\": [{\"colorbar\": {\"outlinewidth\": 0, \"ticks\": \"\"}, \"colorscale\": [[0.0, \"#0d0887\"], [0.1111111111111111, \"#46039f\"], [0.2222222222222222, \"#7201a8\"], [0.3333333333333333, \"#9c179e\"], [0.4444444444444444, \"#bd3786\"], [0.5555555555555556, \"#d8576b\"], [0.6666666666666666, \"#ed7953\"], [0.7777777777777778, \"#fb9f3a\"], [0.8888888888888888, \"#fdca26\"], [1.0, \"#f0f921\"]], \"type\": \"heatmap\"}], \"heatmapgl\": [{\"colorbar\": {\"outlinewidth\": 0, \"ticks\": \"\"}, \"colorscale\": [[0.0, \"#0d0887\"], [0.1111111111111111, \"#46039f\"], [0.2222222222222222, \"#7201a8\"], [0.3333333333333333, \"#9c179e\"], [0.4444444444444444, \"#bd3786\"], [0.5555555555555556, \"#d8576b\"], [0.6666666666666666, \"#ed7953\"], [0.7777777777777778, \"#fb9f3a\"], [0.8888888888888888, \"#fdca26\"], [1.0, \"#f0f921\"]], \"type\": \"heatmapgl\"}], \"histogram\": [{\"marker\": {\"colorbar\": {\"outlinewidth\": 0, \"ticks\": \"\"}}, \"type\": \"histogram\"}], \"histogram2d\": [{\"colorbar\": {\"outlinewidth\": 0, \"ticks\": \"\"}, \"colorscale\": [[0.0, \"#0d0887\"], [0.1111111111111111, \"#46039f\"], [0.2222222222222222, \"#7201a8\"], [0.3333333333333333, \"#9c179e\"], [0.4444444444444444, \"#bd3786\"], [0.5555555555555556, \"#d8576b\"], [0.6666666666666666, \"#ed7953\"], [0.7777777777777778, \"#fb9f3a\"], [0.8888888888888888, \"#fdca26\"], [1.0, \"#f0f921\"]], \"type\": \"histogram2d\"}], \"histogram2dcontour\": [{\"colorbar\": {\"outlinewidth\": 0, \"ticks\": \"\"}, \"colorscale\": [[0.0, \"#0d0887\"], [0.1111111111111111, \"#46039f\"], [0.2222222222222222, \"#7201a8\"], [0.3333333333333333, \"#9c179e\"], [0.4444444444444444, \"#bd3786\"], [0.5555555555555556, \"#d8576b\"], [0.6666666666666666, \"#ed7953\"], [0.7777777777777778, \"#fb9f3a\"], [0.8888888888888888, \"#fdca26\"], [1.0, \"#f0f921\"]], \"type\": \"histogram2dcontour\"}], \"mesh3d\": [{\"colorbar\": {\"outlinewidth\": 0, \"ticks\": \"\"}, \"type\": \"mesh3d\"}], \"parcoords\": [{\"line\": {\"colorbar\": {\"outlinewidth\": 0, \"ticks\": \"\"}}, \"type\": \"parcoords\"}], \"pie\": [{\"automargin\": true, \"type\": \"pie\"}], \"scatter\": [{\"marker\": {\"colorbar\": {\"outlinewidth\": 0, \"ticks\": \"\"}}, \"type\": \"scatter\"}], \"scatter3d\": [{\"line\": {\"colorbar\": {\"outlinewidth\": 0, \"ticks\": \"\"}}, \"marker\": {\"colorbar\": {\"outlinewidth\": 0, \"ticks\": \"\"}}, \"type\": \"scatter3d\"}], \"scattercarpet\": [{\"marker\": {\"colorbar\": {\"outlinewidth\": 0, \"ticks\": \"\"}}, \"type\": \"scattercarpet\"}], \"scattergeo\": [{\"marker\": {\"colorbar\": {\"outlinewidth\": 0, \"ticks\": \"\"}}, \"type\": \"scattergeo\"}], \"scattergl\": [{\"marker\": {\"colorbar\": {\"outlinewidth\": 0, \"ticks\": \"\"}}, \"type\": \"scattergl\"}], \"scattermapbox\": [{\"marker\": {\"colorbar\": {\"outlinewidth\": 0, \"ticks\": \"\"}}, \"type\": \"scattermapbox\"}], \"scatterpolar\": [{\"marker\": {\"colorbar\": {\"outlinewidth\": 0, \"ticks\": \"\"}}, \"type\": \"scatterpolar\"}], \"scatterpolargl\": [{\"marker\": {\"colorbar\": {\"outlinewidth\": 0, \"ticks\": \"\"}}, \"type\": \"scatterpolargl\"}], \"scatterternary\": [{\"marker\": {\"colorbar\": {\"outlinewidth\": 0, \"ticks\": \"\"}}, \"type\": \"scatterternary\"}], \"surface\": [{\"colorbar\": {\"outlinewidth\": 0, \"ticks\": \"\"}, \"colorscale\": [[0.0, \"#0d0887\"], [0.1111111111111111, \"#46039f\"], [0.2222222222222222, \"#7201a8\"], [0.3333333333333333, \"#9c179e\"], [0.4444444444444444, \"#bd3786\"], [0.5555555555555556, \"#d8576b\"], [0.6666666666666666, \"#ed7953\"], [0.7777777777777778, \"#fb9f3a\"], [0.8888888888888888, \"#fdca26\"], [1.0, \"#f0f921\"]], \"type\": \"surface\"}], \"table\": [{\"cells\": {\"fill\": {\"color\": \"#EBF0F8\"}, \"line\": {\"color\": \"white\"}}, \"header\": {\"fill\": {\"color\": \"#C8D4E3\"}, \"line\": {\"color\": \"white\"}}, \"type\": \"table\"}]}, \"layout\": {\"annotationdefaults\": {\"arrowcolor\": \"#2a3f5f\", \"arrowhead\": 0, \"arrowwidth\": 1}, \"coloraxis\": {\"colorbar\": {\"outlinewidth\": 0, \"ticks\": \"\"}}, \"colorscale\": {\"diverging\": [[0, \"#8e0152\"], [0.1, \"#c51b7d\"], [0.2, \"#de77ae\"], [0.3, \"#f1b6da\"], [0.4, \"#fde0ef\"], [0.5, \"#f7f7f7\"], [0.6, \"#e6f5d0\"], [0.7, \"#b8e186\"], [0.8, \"#7fbc41\"], [0.9, \"#4d9221\"], [1, \"#276419\"]], \"sequential\": [[0.0, \"#0d0887\"], [0.1111111111111111, \"#46039f\"], [0.2222222222222222, \"#7201a8\"], [0.3333333333333333, \"#9c179e\"], [0.4444444444444444, \"#bd3786\"], [0.5555555555555556, \"#d8576b\"], [0.6666666666666666, \"#ed7953\"], [0.7777777777777778, \"#fb9f3a\"], [0.8888888888888888, \"#fdca26\"], [1.0, \"#f0f921\"]], \"sequentialminus\": [[0.0, \"#0d0887\"], [0.1111111111111111, \"#46039f\"], [0.2222222222222222, \"#7201a8\"], [0.3333333333333333, \"#9c179e\"], [0.4444444444444444, \"#bd3786\"], [0.5555555555555556, \"#d8576b\"], [0.6666666666666666, \"#ed7953\"], [0.7777777777777778, \"#fb9f3a\"], [0.8888888888888888, \"#fdca26\"], [1.0, \"#f0f921\"]]}, \"colorway\": [\"#636efa\", \"#EF553B\", \"#00cc96\", \"#ab63fa\", \"#FFA15A\", \"#19d3f3\", \"#FF6692\", \"#B6E880\", \"#FF97FF\", \"#FECB52\"], \"font\": {\"color\": \"#2a3f5f\"}, \"geo\": {\"bgcolor\": \"white\", \"lakecolor\": \"white\", \"landcolor\": \"#E5ECF6\", \"showlakes\": true, \"showland\": true, \"subunitcolor\": \"white\"}, \"hoverlabel\": {\"align\": \"left\"}, \"hovermode\": \"closest\", \"mapbox\": {\"style\": \"light\"}, \"paper_bgcolor\": \"white\", \"plot_bgcolor\": \"#E5ECF6\", \"polar\": {\"angularaxis\": {\"gridcolor\": \"white\", \"linecolor\": \"white\", \"ticks\": \"\"}, \"bgcolor\": \"#E5ECF6\", \"radialaxis\": {\"gridcolor\": \"white\", \"linecolor\": \"white\", \"ticks\": \"\"}}, \"scene\": {\"xaxis\": {\"backgroundcolor\": \"#E5ECF6\", \"gridcolor\": \"white\", \"gridwidth\": 2, \"linecolor\": \"white\", \"showbackground\": true, \"ticks\": \"\", \"zerolinecolor\": \"white\"}, \"yaxis\": {\"backgroundcolor\": \"#E5ECF6\", \"gridcolor\": \"white\", \"gridwidth\": 2, \"linecolor\": \"white\", \"showbackground\": true, \"ticks\": \"\", \"zerolinecolor\": \"white\"}, \"zaxis\": {\"backgroundcolor\": \"#E5ECF6\", \"gridcolor\": \"white\", \"gridwidth\": 2, \"linecolor\": \"white\", \"showbackground\": true, \"ticks\": \"\", \"zerolinecolor\": \"white\"}}, \"shapedefaults\": {\"line\": {\"color\": \"#2a3f5f\"}}, \"ternary\": {\"aaxis\": {\"gridcolor\": \"white\", \"linecolor\": \"white\", \"ticks\": \"\"}, \"baxis\": {\"gridcolor\": \"white\", \"linecolor\": \"white\", \"ticks\": \"\"}, \"bgcolor\": \"#E5ECF6\", \"caxis\": {\"gridcolor\": \"white\", \"linecolor\": \"white\", \"ticks\": \"\"}}, \"title\": {\"x\": 0.05}, \"xaxis\": {\"automargin\": true, \"gridcolor\": \"white\", \"linecolor\": \"white\", \"ticks\": \"\", \"title\": {\"standoff\": 15}, \"zerolinecolor\": \"white\", \"zerolinewidth\": 2}, \"yaxis\": {\"automargin\": true, \"gridcolor\": \"white\", \"linecolor\": \"white\", \"ticks\": \"\", \"title\": {\"standoff\": 15}, \"zerolinecolor\": \"white\", \"zerolinewidth\": 2}}}, \"title\": {\"text\": \"Linear Approximation\"}},\n",
              "                        {\"responsive\": true}\n",
              "                    ).then(function(){\n",
              "                            \n",
              "var gd = document.getElementById('e4a5a065-58f8-4148-bcca-a3ff65704c27');\n",
              "var x = new MutationObserver(function (mutations, observer) {{\n",
              "        var display = window.getComputedStyle(gd).display;\n",
              "        if (!display || display === 'none') {{\n",
              "            console.log([gd, 'removed!']);\n",
              "            Plotly.purge(gd);\n",
              "            observer.disconnect();\n",
              "        }}\n",
              "}});\n",
              "\n",
              "// Listen for the removal of the full notebook cells\n",
              "var notebookContainer = gd.closest('#notebook-container');\n",
              "if (notebookContainer) {{\n",
              "    x.observe(notebookContainer, {childList: true});\n",
              "}}\n",
              "\n",
              "// Listen for the clearing of the current output cell\n",
              "var outputEl = gd.closest('.output');\n",
              "if (outputEl) {{\n",
              "    x.observe(outputEl, {childList: true});\n",
              "}}\n",
              "\n",
              "                        })\n",
              "                };\n",
              "                \n",
              "            </script>\n",
              "        </div>\n",
              "</body>\n",
              "</html>"
            ]
          },
          "metadata": {}
        }
      ]
    },
    {
      "cell_type": "markdown",
      "metadata": {
        "id": "OqGhaLzUIgP6"
      },
      "source": [
        "Rational Approximation"
      ]
    },
    {
      "cell_type": "code",
      "metadata": {
        "id": "yoNs1hgxIjgd"
      },
      "source": [
        "def rational_approximant(x, a, b):\n",
        "    return a / (1 + b * x)"
      ],
      "execution_count": 38,
      "outputs": []
    },
    {
      "cell_type": "markdown",
      "metadata": {
        "id": "aq2jOv3VIi_R"
      },
      "source": [
        "Brute Force"
      ]
    },
    {
      "cell_type": "code",
      "metadata": {
        "colab": {
          "base_uri": "https://localhost:8080/"
        },
        "id": "_P4GZEJhIuMk",
        "outputId": "785b1563-6ea0-4e68-d4a9-81f2444b3df2"
      },
      "source": [
        "brute_rational = brute(cost_function, range_, args=(rational_approximant, x, y), full_output=True, Ns=int(1 / epsilon) + 1, finish=None)\n",
        "print(f'estimated alpha: {brute_rational[0][0]}\\n'\n",
        "      f'estimated beta: {brute_rational[0][1]}\\n'\n",
        "      f'iterations: {(int(1 / epsilon) + 1) ** 2}\\n')"
      ],
      "execution_count": 39,
      "outputs": [
        {
          "output_type": "stream",
          "name": "stdout",
          "text": [
            "estimated alpha: 0.9430000000000001\n",
            "estimated beta: 0.0\n",
            "iterations: 1002001\n",
            "\n"
          ]
        }
      ]
    },
    {
      "cell_type": "markdown",
      "metadata": {
        "id": "zDD_5NSmyJQX"
      },
      "source": [
        "Gauss"
      ]
    },
    {
      "cell_type": "code",
      "metadata": {
        "colab": {
          "base_uri": "https://localhost:8080/"
        },
        "id": "drLR5EGAyPdu",
        "outputId": "0dff8bc8-2d7c-46b7-b188-4399c1719eaf"
      },
      "source": [
        "gauss_rational = minimize(cost_function, x0=initial_guess, method='Powell', tol=epsilon, args=(rational_approximant, x, y))\n",
        "print(f'estimated alpha: {gauss_rational[\"x\"][0]:.5f}\\n'\n",
        "      f'estimated beta: {gauss_rational[\"x\"][1]:.5f}\\n'\n",
        "      f'iterations: {gauss_rational[\"nit\"]}\\n'\n",
        "      f'function evaluations: {gauss_rational[\"nfev\"]}\\n')"
      ],
      "execution_count": 42,
      "outputs": [
        {
          "output_type": "stream",
          "name": "stdout",
          "text": [
            "estimated alpha: 0.90773\n",
            "estimated beta: -0.06083\n",
            "iterations: 2\n",
            "function evaluations: 44\n",
            "\n"
          ]
        }
      ]
    },
    {
      "cell_type": "markdown",
      "metadata": {
        "id": "II-gN7lC3A8e"
      },
      "source": [
        "Nelder-Mead"
      ]
    },
    {
      "cell_type": "code",
      "metadata": {
        "colab": {
          "base_uri": "https://localhost:8080/"
        },
        "id": "GN4tgdMv3LWy",
        "outputId": "afe3f9c8-7152-42f5-e4cb-287ce2d49e04"
      },
      "source": [
        "nelder_mead_rational = minimize(cost_function, x0=initial_guess, method='Nelder-Mead', tol=epsilon, args=(rational_approximant, x, y))\n",
        "print(f'estimated alpha: {nelder_mead_rational[\"x\"][0]:.5f}\\n'\n",
        "      f'estimated beta: {nelder_mead_rational[\"x\"][1]:.5f}\\n'\n",
        "      f'iterations: {nelder_mead_rational[\"nit\"]}\\n'\n",
        "      f'function evaluations: {nelder_mead_rational[\"nfev\"]}\\n')"
      ],
      "execution_count": 46,
      "outputs": [
        {
          "output_type": "stream",
          "name": "stdout",
          "text": [
            "estimated alpha: 0.92933\n",
            "estimated beta: -0.02785\n",
            "iterations: 66\n",
            "function evaluations: 124\n",
            "\n"
          ]
        }
      ]
    },
    {
      "cell_type": "code",
      "metadata": {
        "colab": {
          "base_uri": "https://localhost:8080/",
          "height": 542
        },
        "id": "L072fS1tD4Ap",
        "outputId": "55b0a092-72a4-4c66-a70f-46f4b03f7445"
      },
      "source": [
        "figure = go.Figure()\n",
        "figure.add_trace(go.Scatter(x=x, y=data,\n",
        "                            mode='lines',\n",
        "                            name='generative line'))\n",
        "figure.add_trace(go.Scatter(x=x, y=brute_rational[0][0] / (1 + brute_rational[0][1] * x),\n",
        "                            mode='lines',\n",
        "                            name='rational brute force approximation'))\n",
        "figure.add_trace(go.Scatter(x=x, y=gauss_rational[\"x\"][0] / (1 + gauss_rational[\"x\"][1] * x),\n",
        "                            mode='lines',\n",
        "                            name='rational gauss approximation'))\n",
        "figure.add_trace(go.Scatter(x=x, y=nelder_mead_rational[\"x\"][0] / (1 + nelder_mead_rational[\"x\"][1] * x),\n",
        "                            mode='lines',\n",
        "                            name='rational nelder-mead approximation'))\n",
        "figure.add_trace(go.Scatter(x=x, y=y,\n",
        "                            mode='markers',\n",
        "                            name='noised data'))\n",
        "figure.update_layout(title='Rational Approximation', font_size=10)"
      ],
      "execution_count": 47,
      "outputs": [
        {
          "output_type": "display_data",
          "data": {
            "text/html": [
              "<html>\n",
              "<head><meta charset=\"utf-8\" /></head>\n",
              "<body>\n",
              "    <div>\n",
              "            <script src=\"https://cdnjs.cloudflare.com/ajax/libs/mathjax/2.7.5/MathJax.js?config=TeX-AMS-MML_SVG\"></script><script type=\"text/javascript\">if (window.MathJax) {MathJax.Hub.Config({SVG: {font: \"STIX-Web\"}});}</script>\n",
              "                <script type=\"text/javascript\">window.PlotlyConfig = {MathJaxConfig: 'local'};</script>\n",
              "        <script src=\"https://cdn.plot.ly/plotly-latest.min.js\"></script>    \n",
              "            <div id=\"147c2f1b-840c-4607-995a-b1672633e765\" class=\"plotly-graph-div\" style=\"height:525px; width:100%;\"></div>\n",
              "            <script type=\"text/javascript\">\n",
              "                \n",
              "                    window.PLOTLYENV=window.PLOTLYENV || {};\n",
              "                    \n",
              "                if (document.getElementById(\"147c2f1b-840c-4607-995a-b1672633e765\")) {\n",
              "                    Plotly.newPlot(\n",
              "                        '147c2f1b-840c-4607-995a-b1672633e765',\n",
              "                        [{\"mode\": \"lines\", \"name\": \"generative line\", \"type\": \"scatter\", \"x\": [0.0, 0.01, 0.02, 0.03, 0.04, 0.05, 0.06, 0.07, 0.08, 0.09, 0.1, 0.11, 0.12, 0.13, 0.14, 0.15, 0.16, 0.17, 0.18, 0.19, 0.2, 0.21, 0.22, 0.23, 0.24, 0.25, 0.26, 0.27, 0.28, 0.29, 0.3, 0.31, 0.32, 0.33, 0.34, 0.35000000000000003, 0.36, 0.37, 0.38, 0.39, 0.4, 0.41000000000000003, 0.42, 0.43, 0.44, 0.45, 0.46, 0.47000000000000003, 0.48, 0.49, 0.5, 0.51, 0.52, 0.53, 0.54, 0.55, 0.56, 0.5700000000000001, 0.58, 0.59, 0.6, 0.61, 0.62, 0.63, 0.64, 0.65, 0.66, 0.67, 0.68, 0.6900000000000001, 0.7000000000000001, 0.71, 0.72, 0.73, 0.74, 0.75, 0.76, 0.77, 0.78, 0.79, 0.8, 0.81, 0.8200000000000001, 0.8300000000000001, 0.84, 0.85, 0.86, 0.87, 0.88, 0.89, 0.9, 0.91, 0.92, 0.93, 0.9400000000000001, 0.9500000000000001, 0.96, 0.97, 0.98, 0.99, 1.0], \"y\": [0.8201498633330849, 0.8214387068181338, 0.8227275503031827, 0.8240163937882314, 0.8253052372732803, 0.8265940807583292, 0.8278829242433781, 0.8291717677284269, 0.8304606112134757, 0.8317494546985246, 0.8330382981835734, 0.8343271416686223, 0.8356159851536711, 0.83690482863872, 0.8381936721237688, 0.8394825156088177, 0.8407713590938666, 0.8420602025789153, 0.8433490460639642, 0.8446378895490131, 0.845926733034062, 0.8472155765191108, 0.8485044200041596, 0.8497932634892085, 0.8510821069742573, 0.8523709504593062, 0.8536597939443551, 0.8549486374294039, 0.8562374809144527, 0.8575263243995016, 0.8588151678845505, 0.8601040113695992, 0.8613928548546481, 0.862681698339697, 0.8639705418247459, 0.8652593853097947, 0.8665482287948435, 0.8678370722798924, 0.8691259157649412, 0.8704147592499901, 0.871703602735039, 0.8729924462200878, 0.8742812897051366, 0.8755701331901855, 0.8768589766752344, 0.8781478201602833, 0.879436663645332, 0.8807255071303809, 0.8820143506154298, 0.8833031941004786, 0.8845920375855274, 0.8858808810705763, 0.8871697245556251, 0.888458568040674, 0.8897474115257229, 0.8910362550107718, 0.8923250984958205, 0.8936139419808694, 0.8949027854659183, 0.8961916289509672, 0.8974804724360159, 0.8987693159210648, 0.9000581594061137, 0.9013470028911625, 0.9026358463762114, 0.9039246898612602, 0.905213533346309, 0.9065023768313579, 0.9077912203164068, 0.9090800638014557, 0.9103689072865044, 0.9116577507715533, 0.9129465942566022, 0.9142354377416511, 0.9155242812266999, 0.9168131247117487, 0.9181019681967976, 0.9193908116818464, 0.9206796551668953, 0.9219684986519441, 0.923257342136993, 0.9245461856220418, 0.9258350291070907, 0.9271238725921396, 0.9284127160771883, 0.9297015595622372, 0.9309904030472861, 0.932279246532335, 0.9335680900173837, 0.9348569335024326, 0.9361457769874815, 0.9374346204725303, 0.9387234639575792, 0.9400123074426281, 0.9413011509276769, 0.9425899944127257, 0.9438788378977746, 0.9451676813828234, 0.9464565248678722, 0.9477453683529211, 0.94903421183797]}, {\"mode\": \"lines\", \"name\": \"rational brute force approximation\", \"type\": \"scatter\", \"x\": [0.0, 0.01, 0.02, 0.03, 0.04, 0.05, 0.06, 0.07, 0.08, 0.09, 0.1, 0.11, 0.12, 0.13, 0.14, 0.15, 0.16, 0.17, 0.18, 0.19, 0.2, 0.21, 0.22, 0.23, 0.24, 0.25, 0.26, 0.27, 0.28, 0.29, 0.3, 0.31, 0.32, 0.33, 0.34, 0.35000000000000003, 0.36, 0.37, 0.38, 0.39, 0.4, 0.41000000000000003, 0.42, 0.43, 0.44, 0.45, 0.46, 0.47000000000000003, 0.48, 0.49, 0.5, 0.51, 0.52, 0.53, 0.54, 0.55, 0.56, 0.5700000000000001, 0.58, 0.59, 0.6, 0.61, 0.62, 0.63, 0.64, 0.65, 0.66, 0.67, 0.68, 0.6900000000000001, 0.7000000000000001, 0.71, 0.72, 0.73, 0.74, 0.75, 0.76, 0.77, 0.78, 0.79, 0.8, 0.81, 0.8200000000000001, 0.8300000000000001, 0.84, 0.85, 0.86, 0.87, 0.88, 0.89, 0.9, 0.91, 0.92, 0.93, 0.9400000000000001, 0.9500000000000001, 0.96, 0.97, 0.98, 0.99, 1.0], \"y\": [0.9430000000000001, 0.9430000000000001, 0.9430000000000001, 0.9430000000000001, 0.9430000000000001, 0.9430000000000001, 0.9430000000000001, 0.9430000000000001, 0.9430000000000001, 0.9430000000000001, 0.9430000000000001, 0.9430000000000001, 0.9430000000000001, 0.9430000000000001, 0.9430000000000001, 0.9430000000000001, 0.9430000000000001, 0.9430000000000001, 0.9430000000000001, 0.9430000000000001, 0.9430000000000001, 0.9430000000000001, 0.9430000000000001, 0.9430000000000001, 0.9430000000000001, 0.9430000000000001, 0.9430000000000001, 0.9430000000000001, 0.9430000000000001, 0.9430000000000001, 0.9430000000000001, 0.9430000000000001, 0.9430000000000001, 0.9430000000000001, 0.9430000000000001, 0.9430000000000001, 0.9430000000000001, 0.9430000000000001, 0.9430000000000001, 0.9430000000000001, 0.9430000000000001, 0.9430000000000001, 0.9430000000000001, 0.9430000000000001, 0.9430000000000001, 0.9430000000000001, 0.9430000000000001, 0.9430000000000001, 0.9430000000000001, 0.9430000000000001, 0.9430000000000001, 0.9430000000000001, 0.9430000000000001, 0.9430000000000001, 0.9430000000000001, 0.9430000000000001, 0.9430000000000001, 0.9430000000000001, 0.9430000000000001, 0.9430000000000001, 0.9430000000000001, 0.9430000000000001, 0.9430000000000001, 0.9430000000000001, 0.9430000000000001, 0.9430000000000001, 0.9430000000000001, 0.9430000000000001, 0.9430000000000001, 0.9430000000000001, 0.9430000000000001, 0.9430000000000001, 0.9430000000000001, 0.9430000000000001, 0.9430000000000001, 0.9430000000000001, 0.9430000000000001, 0.9430000000000001, 0.9430000000000001, 0.9430000000000001, 0.9430000000000001, 0.9430000000000001, 0.9430000000000001, 0.9430000000000001, 0.9430000000000001, 0.9430000000000001, 0.9430000000000001, 0.9430000000000001, 0.9430000000000001, 0.9430000000000001, 0.9430000000000001, 0.9430000000000001, 0.9430000000000001, 0.9430000000000001, 0.9430000000000001, 0.9430000000000001, 0.9430000000000001, 0.9430000000000001, 0.9430000000000001, 0.9430000000000001, 0.9430000000000001]}, {\"mode\": \"lines\", \"name\": \"rational gauss approximation\", \"type\": \"scatter\", \"x\": [0.0, 0.01, 0.02, 0.03, 0.04, 0.05, 0.06, 0.07, 0.08, 0.09, 0.1, 0.11, 0.12, 0.13, 0.14, 0.15, 0.16, 0.17, 0.18, 0.19, 0.2, 0.21, 0.22, 0.23, 0.24, 0.25, 0.26, 0.27, 0.28, 0.29, 0.3, 0.31, 0.32, 0.33, 0.34, 0.35000000000000003, 0.36, 0.37, 0.38, 0.39, 0.4, 0.41000000000000003, 0.42, 0.43, 0.44, 0.45, 0.46, 0.47000000000000003, 0.48, 0.49, 0.5, 0.51, 0.52, 0.53, 0.54, 0.55, 0.56, 0.5700000000000001, 0.58, 0.59, 0.6, 0.61, 0.62, 0.63, 0.64, 0.65, 0.66, 0.67, 0.68, 0.6900000000000001, 0.7000000000000001, 0.71, 0.72, 0.73, 0.74, 0.75, 0.76, 0.77, 0.78, 0.79, 0.8, 0.81, 0.8200000000000001, 0.8300000000000001, 0.84, 0.85, 0.86, 0.87, 0.88, 0.89, 0.9, 0.91, 0.92, 0.93, 0.9400000000000001, 0.9500000000000001, 0.96, 0.97, 0.98, 0.99, 1.0], \"y\": [0.9077292985143673, 0.908281806469819, 0.9088349874253826, 0.9093888426114618, 0.9099433732614614, 0.9104985806117961, 0.9110544659019004, 0.9116110303742376, 0.9121682752743087, 0.9127262018506618, 0.913284811354902, 0.9138441050416999, 0.9144040841688017, 0.9149647499970383, 0.9155261037903345, 0.9160881468157193, 0.9166508803433345, 0.917214305646445, 0.917778424001448, 0.9183432366878826, 0.91890874498844, 0.9194749501889724, 0.9200418535785033, 0.9206094564492374, 0.9211777600965697, 0.9217467658190965, 0.9223164749186241, 0.9228868887001793, 0.9234580084720195, 0.9240298355456424, 0.9246023712357962, 0.9251756168604895, 0.9257495737410019, 0.9263242432018932, 0.9268996265710149, 0.9274757251795189, 0.9280525403618696, 0.9286300734558521, 0.9292083258025845, 0.9297872987465267, 0.9303669936354921, 0.9309474118206573, 0.9315285546565725, 0.9321104235011727, 0.9326930197157877, 0.9332763446651529, 0.9338603997174201, 0.934445186244168, 0.9350307056204128, 0.9356169592246196, 0.9362039484387126, 0.9367916746480858, 0.9373801392416148, 0.937969343611667, 0.9385592891541126, 0.9391499772683359, 0.9397414093572466, 0.94033358682729, 0.9409265110884591, 0.9415201835543053, 0.9421146056419497, 0.9427097787720945, 0.943305704369034, 0.9439023838606668, 0.9444998186785057, 0.9450980102576911, 0.9456969600370004, 0.9462966694588615, 0.9468971399693626, 0.9474983730182654, 0.9481003700590158, 0.9487031325487555, 0.9493066619483347, 0.949910959722323, 0.9505160273390215, 0.951121866270475, 0.9517284779924836, 0.9523358639846146, 0.952944025730215, 0.953552964716423, 0.9541626824341807, 0.9547731803782457, 0.9553844600472036, 0.9559965229434806, 0.9566093705733549, 0.9572230044469704, 0.9578374260783473, 0.9584526369853966, 0.9590686386899306, 0.9596854327176775, 0.9603030205982919, 0.9609214038653687, 0.9615405840564563, 0.9621605627130675, 0.9627813413806944, 0.9634029216088194, 0.9640253049509294, 0.964648492964528, 0.9652724872111493, 0.9658972892563699, 0.9665229006698222]}, {\"mode\": \"lines\", \"name\": \"rational nelder-mead approximation\", \"type\": \"scatter\", \"x\": [0.0, 0.01, 0.02, 0.03, 0.04, 0.05, 0.06, 0.07, 0.08, 0.09, 0.1, 0.11, 0.12, 0.13, 0.14, 0.15, 0.16, 0.17, 0.18, 0.19, 0.2, 0.21, 0.22, 0.23, 0.24, 0.25, 0.26, 0.27, 0.28, 0.29, 0.3, 0.31, 0.32, 0.33, 0.34, 0.35000000000000003, 0.36, 0.37, 0.38, 0.39, 0.4, 0.41000000000000003, 0.42, 0.43, 0.44, 0.45, 0.46, 0.47000000000000003, 0.48, 0.49, 0.5, 0.51, 0.52, 0.53, 0.54, 0.55, 0.56, 0.5700000000000001, 0.58, 0.59, 0.6, 0.61, 0.62, 0.63, 0.64, 0.65, 0.66, 0.67, 0.68, 0.6900000000000001, 0.7000000000000001, 0.71, 0.72, 0.73, 0.74, 0.75, 0.76, 0.77, 0.78, 0.79, 0.8, 0.81, 0.8200000000000001, 0.8300000000000001, 0.84, 0.85, 0.86, 0.87, 0.88, 0.89, 0.9, 0.91, 0.92, 0.93, 0.9400000000000001, 0.9500000000000001, 0.96, 0.97, 0.98, 0.99, 1.0], \"y\": [0.9293340504499772, 0.9295929648889935, 0.9298520236364389, 0.9301112268129947, 0.9303705745394767, 0.9306300669368351, 0.9308897041261557, 0.9311494862286591, 0.9314094133657013, 0.9316694856587739, 0.9319297032295043, 0.9321900661996556, 0.9324505746911271, 0.9327112288259546, 0.93297202872631, 0.9332329745145024, 0.9334940663129774, 0.9337553042443175, 0.9340166884312431, 0.9342782189966112, 0.9345398960634174, 0.9348017197547943, 0.9350636901940131, 0.9353258075044828, 0.9355880718097509, 0.935850483233504, 0.9361130418995667, 0.9363757479319033, 0.9366386014546167, 0.93690160259195, 0.9371647514682849, 0.9374280482081435, 0.9376914929361878, 0.93795508577722, 0.9382188268561823, 0.9384827162981582, 0.938746754228371, 0.9390109407721857, 0.9392752760551083, 0.9395397602027862, 0.939804393341008, 0.9400691755957046, 0.9403341070929483, 0.940599187958954, 0.9408644183200789, 0.9411297983028226, 0.9413953280338274, 0.9416610076398788, 0.9419268372479056, 0.9421928169849793, 0.9424589469783156, 0.9427252273552736, 0.9429916582433568, 0.9432582397702125, 0.9435249720636327, 0.9437918552515535, 0.9440588894620562, 0.944326074823367, 0.9445934114638572, 0.9448608995120438, 0.9451285390965891, 0.9453963303463012, 0.9456642733901345, 0.9459323683571894, 0.946200615376713, 0.9464690145780987, 0.9467375660908871, 0.9470062700447655, 0.9472751265695688, 0.9475441357952792, 0.9478132978520266, 0.9480826128700891, 0.9483520809798924, 0.948621702312011, 0.9488914769971675, 0.9491614051662336, 0.9494314869502297, 0.9497017224803257, 0.9499721118878405, 0.950242655304243, 0.9505133528611514, 0.9507842046903342, 0.9510552109237103, 0.9513263716933488, 0.9515976871314695, 0.9518691573704433, 0.9521407825427918, 0.9524125627811881, 0.952684498218457, 0.952956588987575, 0.95322883522167, 0.953501237054023, 0.9537737946180667, 0.9540465080473866, 0.9543193774757209, 0.9545924030369614, 0.9548655848651524, 0.9551389230944921, 0.9554124178593327, 0.9556860692941797, 0.9559598775336928]}, {\"mode\": \"markers\", \"name\": \"noised data\", \"type\": \"scatter\", \"x\": [0.0, 0.01, 0.02, 0.03, 0.04, 0.05, 0.06, 0.07, 0.08, 0.09, 0.1, 0.11, 0.12, 0.13, 0.14, 0.15, 0.16, 0.17, 0.18, 0.19, 0.2, 0.21, 0.22, 0.23, 0.24, 0.25, 0.26, 0.27, 0.28, 0.29, 0.3, 0.31, 0.32, 0.33, 0.34, 0.35000000000000003, 0.36, 0.37, 0.38, 0.39, 0.4, 0.41000000000000003, 0.42, 0.43, 0.44, 0.45, 0.46, 0.47000000000000003, 0.48, 0.49, 0.5, 0.51, 0.52, 0.53, 0.54, 0.55, 0.56, 0.5700000000000001, 0.58, 0.59, 0.6, 0.61, 0.62, 0.63, 0.64, 0.65, 0.66, 0.67, 0.68, 0.6900000000000001, 0.7000000000000001, 0.71, 0.72, 0.73, 0.74, 0.75, 0.76, 0.77, 0.78, 0.79, 0.8, 0.81, 0.8200000000000001, 0.8300000000000001, 0.84, 0.85, 0.86, 0.87, 0.88, 0.89, 0.9, 0.91, 0.92, 0.93, 0.9400000000000001, 0.9500000000000001, 0.96, 0.97, 0.98, 0.99, 1.0], \"y\": [-0.269406081347923, 1.1148960202350056, 1.4499538704522819, -0.7337531649991171, 2.4411070170212747, 1.5828323657661318, 2.301298039784145, -0.23165950522552992, 1.1612883498954625, 0.014761102204343568, 0.13194158756207652, 0.9009512550357509, -1.0354627646280614, 1.5968129298743095, 0.5683473545170221, 2.0461728247783606, 1.866419921447281, 2.2917378783759204, -0.7757251057453628, 1.5597307631206356, -1.6653474898596023, 1.8028326726859984, 0.17236975755304573, 1.5178102732483298, 3.4667291779110756, 0.7324021821580322, 0.3062930382446173, 2.0629427243061267, 2.438547863573746, 0.355213274136286, 0.7894509494714615, 0.5853114327285419, 1.854802243124194, -0.5994097490669068, 0.7427735593325331, 2.4635256968971286, 0.07891663176001684, 1.045329572286279, 1.1926621824590211, 1.545374738969579, -0.11216807637669135, 0.6888721578129563, 1.503456400898421, 0.9665596260240823, 1.5352892814991375, -1.7716043074221985, 2.251036866260491, 1.5762494052211458, 0.707220342185075, 1.1409836056356448, 1.3126199695446843, 0.8892231262674687, 1.5986495873709594, 0.992642969178114, -1.1447416072103354, -0.4138361604201761, 1.5487147068232576, 0.8756487133275289, 2.1145166468822336, 1.0877019887988095, -2.182916005721651, 1.0849830474866573, 1.3558444283492657, 1.9960546424832277, 2.062802522546238, 1.978452446453356, 1.0731471518083604, 1.4782278646893998, -0.14546283053661668, 1.3118261888560712, -0.12813797748869815, 2.537285471808218, 0.5360518129117291, 3.0275630910691933, 2.13966217109059, 1.1580820222946384, 0.7759837199505426, -1.2305295385347699, -0.3699105713634975, 0.7866842572355036, 2.0106230204911784, 0.10085941354989414, 0.4151691674018071, 1.308916621806905, 1.1867595333150316, 0.5046776416104973, 0.49947347587696594, 2.5907558814870635, 0.6550605065459898, 0.2026792428313835, 1.468092188732916, 0.7041242967212384, 1.0423806191025742, 1.112519124304896, -0.01190501742194483, 0.621294988754969, -0.13267309208127076, 2.2046177366839705, 0.14384995015900537, 3.0350775775084537, 0.06781265560091909]}],\n",
              "                        {\"font\": {\"size\": 10}, \"template\": {\"data\": {\"bar\": [{\"error_x\": {\"color\": \"#2a3f5f\"}, \"error_y\": {\"color\": \"#2a3f5f\"}, \"marker\": {\"line\": {\"color\": \"#E5ECF6\", \"width\": 0.5}}, \"type\": \"bar\"}], \"barpolar\": [{\"marker\": {\"line\": {\"color\": \"#E5ECF6\", \"width\": 0.5}}, \"type\": \"barpolar\"}], \"carpet\": [{\"aaxis\": {\"endlinecolor\": \"#2a3f5f\", \"gridcolor\": \"white\", \"linecolor\": \"white\", \"minorgridcolor\": \"white\", \"startlinecolor\": \"#2a3f5f\"}, \"baxis\": {\"endlinecolor\": \"#2a3f5f\", \"gridcolor\": \"white\", \"linecolor\": \"white\", \"minorgridcolor\": \"white\", \"startlinecolor\": \"#2a3f5f\"}, \"type\": \"carpet\"}], \"choropleth\": [{\"colorbar\": {\"outlinewidth\": 0, \"ticks\": \"\"}, \"type\": \"choropleth\"}], \"contour\": [{\"colorbar\": {\"outlinewidth\": 0, \"ticks\": \"\"}, \"colorscale\": [[0.0, \"#0d0887\"], [0.1111111111111111, \"#46039f\"], [0.2222222222222222, \"#7201a8\"], [0.3333333333333333, \"#9c179e\"], [0.4444444444444444, \"#bd3786\"], [0.5555555555555556, \"#d8576b\"], [0.6666666666666666, \"#ed7953\"], [0.7777777777777778, \"#fb9f3a\"], [0.8888888888888888, \"#fdca26\"], [1.0, \"#f0f921\"]], \"type\": \"contour\"}], \"contourcarpet\": [{\"colorbar\": {\"outlinewidth\": 0, \"ticks\": \"\"}, \"type\": \"contourcarpet\"}], \"heatmap\": [{\"colorbar\": {\"outlinewidth\": 0, \"ticks\": \"\"}, \"colorscale\": [[0.0, \"#0d0887\"], [0.1111111111111111, \"#46039f\"], [0.2222222222222222, \"#7201a8\"], [0.3333333333333333, \"#9c179e\"], [0.4444444444444444, \"#bd3786\"], [0.5555555555555556, \"#d8576b\"], [0.6666666666666666, \"#ed7953\"], [0.7777777777777778, \"#fb9f3a\"], [0.8888888888888888, \"#fdca26\"], [1.0, \"#f0f921\"]], \"type\": \"heatmap\"}], \"heatmapgl\": [{\"colorbar\": {\"outlinewidth\": 0, \"ticks\": \"\"}, \"colorscale\": [[0.0, \"#0d0887\"], [0.1111111111111111, \"#46039f\"], [0.2222222222222222, \"#7201a8\"], [0.3333333333333333, \"#9c179e\"], [0.4444444444444444, \"#bd3786\"], [0.5555555555555556, \"#d8576b\"], [0.6666666666666666, \"#ed7953\"], [0.7777777777777778, \"#fb9f3a\"], [0.8888888888888888, \"#fdca26\"], [1.0, \"#f0f921\"]], \"type\": \"heatmapgl\"}], \"histogram\": [{\"marker\": {\"colorbar\": {\"outlinewidth\": 0, \"ticks\": \"\"}}, \"type\": \"histogram\"}], \"histogram2d\": [{\"colorbar\": {\"outlinewidth\": 0, \"ticks\": \"\"}, \"colorscale\": [[0.0, \"#0d0887\"], [0.1111111111111111, \"#46039f\"], [0.2222222222222222, \"#7201a8\"], [0.3333333333333333, \"#9c179e\"], [0.4444444444444444, \"#bd3786\"], [0.5555555555555556, \"#d8576b\"], [0.6666666666666666, \"#ed7953\"], [0.7777777777777778, \"#fb9f3a\"], [0.8888888888888888, \"#fdca26\"], [1.0, \"#f0f921\"]], \"type\": \"histogram2d\"}], \"histogram2dcontour\": [{\"colorbar\": {\"outlinewidth\": 0, \"ticks\": \"\"}, \"colorscale\": [[0.0, \"#0d0887\"], [0.1111111111111111, \"#46039f\"], [0.2222222222222222, \"#7201a8\"], [0.3333333333333333, \"#9c179e\"], [0.4444444444444444, \"#bd3786\"], [0.5555555555555556, \"#d8576b\"], [0.6666666666666666, \"#ed7953\"], [0.7777777777777778, \"#fb9f3a\"], [0.8888888888888888, \"#fdca26\"], [1.0, \"#f0f921\"]], \"type\": \"histogram2dcontour\"}], \"mesh3d\": [{\"colorbar\": {\"outlinewidth\": 0, \"ticks\": \"\"}, \"type\": \"mesh3d\"}], \"parcoords\": [{\"line\": {\"colorbar\": {\"outlinewidth\": 0, \"ticks\": \"\"}}, \"type\": \"parcoords\"}], \"pie\": [{\"automargin\": true, \"type\": \"pie\"}], \"scatter\": [{\"marker\": {\"colorbar\": {\"outlinewidth\": 0, \"ticks\": \"\"}}, \"type\": \"scatter\"}], \"scatter3d\": [{\"line\": {\"colorbar\": {\"outlinewidth\": 0, \"ticks\": \"\"}}, \"marker\": {\"colorbar\": {\"outlinewidth\": 0, \"ticks\": \"\"}}, \"type\": \"scatter3d\"}], \"scattercarpet\": [{\"marker\": {\"colorbar\": {\"outlinewidth\": 0, \"ticks\": \"\"}}, \"type\": \"scattercarpet\"}], \"scattergeo\": [{\"marker\": {\"colorbar\": {\"outlinewidth\": 0, \"ticks\": \"\"}}, \"type\": \"scattergeo\"}], \"scattergl\": [{\"marker\": {\"colorbar\": {\"outlinewidth\": 0, \"ticks\": \"\"}}, \"type\": \"scattergl\"}], \"scattermapbox\": [{\"marker\": {\"colorbar\": {\"outlinewidth\": 0, \"ticks\": \"\"}}, \"type\": \"scattermapbox\"}], \"scatterpolar\": [{\"marker\": {\"colorbar\": {\"outlinewidth\": 0, \"ticks\": \"\"}}, \"type\": \"scatterpolar\"}], \"scatterpolargl\": [{\"marker\": {\"colorbar\": {\"outlinewidth\": 0, \"ticks\": \"\"}}, \"type\": \"scatterpolargl\"}], \"scatterternary\": [{\"marker\": {\"colorbar\": {\"outlinewidth\": 0, \"ticks\": \"\"}}, \"type\": \"scatterternary\"}], \"surface\": [{\"colorbar\": {\"outlinewidth\": 0, \"ticks\": \"\"}, \"colorscale\": [[0.0, \"#0d0887\"], [0.1111111111111111, \"#46039f\"], [0.2222222222222222, \"#7201a8\"], [0.3333333333333333, \"#9c179e\"], [0.4444444444444444, \"#bd3786\"], [0.5555555555555556, \"#d8576b\"], [0.6666666666666666, \"#ed7953\"], [0.7777777777777778, \"#fb9f3a\"], [0.8888888888888888, \"#fdca26\"], [1.0, \"#f0f921\"]], \"type\": \"surface\"}], \"table\": [{\"cells\": {\"fill\": {\"color\": \"#EBF0F8\"}, \"line\": {\"color\": \"white\"}}, \"header\": {\"fill\": {\"color\": \"#C8D4E3\"}, \"line\": {\"color\": \"white\"}}, \"type\": \"table\"}]}, \"layout\": {\"annotationdefaults\": {\"arrowcolor\": \"#2a3f5f\", \"arrowhead\": 0, \"arrowwidth\": 1}, \"coloraxis\": {\"colorbar\": {\"outlinewidth\": 0, \"ticks\": \"\"}}, \"colorscale\": {\"diverging\": [[0, \"#8e0152\"], [0.1, \"#c51b7d\"], [0.2, \"#de77ae\"], [0.3, \"#f1b6da\"], [0.4, \"#fde0ef\"], [0.5, \"#f7f7f7\"], [0.6, \"#e6f5d0\"], [0.7, \"#b8e186\"], [0.8, \"#7fbc41\"], [0.9, \"#4d9221\"], [1, \"#276419\"]], \"sequential\": [[0.0, \"#0d0887\"], [0.1111111111111111, \"#46039f\"], [0.2222222222222222, \"#7201a8\"], [0.3333333333333333, \"#9c179e\"], [0.4444444444444444, \"#bd3786\"], [0.5555555555555556, \"#d8576b\"], [0.6666666666666666, \"#ed7953\"], [0.7777777777777778, \"#fb9f3a\"], [0.8888888888888888, \"#fdca26\"], [1.0, \"#f0f921\"]], \"sequentialminus\": [[0.0, \"#0d0887\"], [0.1111111111111111, \"#46039f\"], [0.2222222222222222, \"#7201a8\"], [0.3333333333333333, \"#9c179e\"], [0.4444444444444444, \"#bd3786\"], [0.5555555555555556, \"#d8576b\"], [0.6666666666666666, \"#ed7953\"], [0.7777777777777778, \"#fb9f3a\"], [0.8888888888888888, \"#fdca26\"], [1.0, \"#f0f921\"]]}, \"colorway\": [\"#636efa\", \"#EF553B\", \"#00cc96\", \"#ab63fa\", \"#FFA15A\", \"#19d3f3\", \"#FF6692\", \"#B6E880\", \"#FF97FF\", \"#FECB52\"], \"font\": {\"color\": \"#2a3f5f\"}, \"geo\": {\"bgcolor\": \"white\", \"lakecolor\": \"white\", \"landcolor\": \"#E5ECF6\", \"showlakes\": true, \"showland\": true, \"subunitcolor\": \"white\"}, \"hoverlabel\": {\"align\": \"left\"}, \"hovermode\": \"closest\", \"mapbox\": {\"style\": \"light\"}, \"paper_bgcolor\": \"white\", \"plot_bgcolor\": \"#E5ECF6\", \"polar\": {\"angularaxis\": {\"gridcolor\": \"white\", \"linecolor\": \"white\", \"ticks\": \"\"}, \"bgcolor\": \"#E5ECF6\", \"radialaxis\": {\"gridcolor\": \"white\", \"linecolor\": \"white\", \"ticks\": \"\"}}, \"scene\": {\"xaxis\": {\"backgroundcolor\": \"#E5ECF6\", \"gridcolor\": \"white\", \"gridwidth\": 2, \"linecolor\": \"white\", \"showbackground\": true, \"ticks\": \"\", \"zerolinecolor\": \"white\"}, \"yaxis\": {\"backgroundcolor\": \"#E5ECF6\", \"gridcolor\": \"white\", \"gridwidth\": 2, \"linecolor\": \"white\", \"showbackground\": true, \"ticks\": \"\", \"zerolinecolor\": \"white\"}, \"zaxis\": {\"backgroundcolor\": \"#E5ECF6\", \"gridcolor\": \"white\", \"gridwidth\": 2, \"linecolor\": \"white\", \"showbackground\": true, \"ticks\": \"\", \"zerolinecolor\": \"white\"}}, \"shapedefaults\": {\"line\": {\"color\": \"#2a3f5f\"}}, \"ternary\": {\"aaxis\": {\"gridcolor\": \"white\", \"linecolor\": \"white\", \"ticks\": \"\"}, \"baxis\": {\"gridcolor\": \"white\", \"linecolor\": \"white\", \"ticks\": \"\"}, \"bgcolor\": \"#E5ECF6\", \"caxis\": {\"gridcolor\": \"white\", \"linecolor\": \"white\", \"ticks\": \"\"}}, \"title\": {\"x\": 0.05}, \"xaxis\": {\"automargin\": true, \"gridcolor\": \"white\", \"linecolor\": \"white\", \"ticks\": \"\", \"title\": {\"standoff\": 15}, \"zerolinecolor\": \"white\", \"zerolinewidth\": 2}, \"yaxis\": {\"automargin\": true, \"gridcolor\": \"white\", \"linecolor\": \"white\", \"ticks\": \"\", \"title\": {\"standoff\": 15}, \"zerolinecolor\": \"white\", \"zerolinewidth\": 2}}}, \"title\": {\"text\": \"Rational Approximation\"}},\n",
              "                        {\"responsive\": true}\n",
              "                    ).then(function(){\n",
              "                            \n",
              "var gd = document.getElementById('147c2f1b-840c-4607-995a-b1672633e765');\n",
              "var x = new MutationObserver(function (mutations, observer) {{\n",
              "        var display = window.getComputedStyle(gd).display;\n",
              "        if (!display || display === 'none') {{\n",
              "            console.log([gd, 'removed!']);\n",
              "            Plotly.purge(gd);\n",
              "            observer.disconnect();\n",
              "        }}\n",
              "}});\n",
              "\n",
              "// Listen for the removal of the full notebook cells\n",
              "var notebookContainer = gd.closest('#notebook-container');\n",
              "if (notebookContainer) {{\n",
              "    x.observe(notebookContainer, {childList: true});\n",
              "}}\n",
              "\n",
              "// Listen for the clearing of the current output cell\n",
              "var outputEl = gd.closest('.output');\n",
              "if (outputEl) {{\n",
              "    x.observe(outputEl, {childList: true});\n",
              "}}\n",
              "\n",
              "                        })\n",
              "                };\n",
              "                \n",
              "            </script>\n",
              "        </div>\n",
              "</body>\n",
              "</html>"
            ]
          },
          "metadata": {}
        }
      ]
    },
    {
      "cell_type": "code",
      "metadata": {
        "id": "uoui38KID0zM"
      },
      "source": [
        ""
      ],
      "execution_count": null,
      "outputs": []
    }
  ]
}